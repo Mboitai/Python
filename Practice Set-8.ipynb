{
 "cells": [
  {
   "cell_type": "code",
   "execution_count": 3,
   "id": "9a97d658",
   "metadata": {},
   "outputs": [
    {
     "name": "stdout",
     "output_type": "stream",
     "text": [
      "Enter the value of n:3\n",
      "[['heyy', 'hii', 'heloo'], ['hoila', 'voila', 'kamsamida'], ['namaste', 'love', 'chunks'], ['pour', 'life']]\n"
     ]
    }
   ],
   "source": [
    "#Python Program Given a list slice it into a 3 equal chunks and revert each list\n",
    "my_list = ['heyy', 'hii', 'heloo', 'hoila',\n",
    "        'voila','kamsamida', 'namaste', 'love',\n",
    "            'chunks','pour', 'life']\n",
    "def divide_chunks(l, n):\n",
    "    for i in range(0, len(l), n):\n",
    "        yield l[i:i + n]\n",
    "n = int(input(\"Enter the value of n:\"))\n",
    "x = list(divide_chunks(my_list, n))\n",
    "print (x)"
   ]
  },
  {
   "cell_type": "code",
   "execution_count": 4,
   "id": "1d9d1ee7",
   "metadata": {},
   "outputs": [
    {
     "name": "stdout",
     "output_type": "stream",
     "text": [
      "8\n"
     ]
    }
   ],
   "source": [
    "#write a program to calculate exponents of an input\n",
    "def power(x, y):\n",
    "    if (y == 0): return 1\n",
    "    elif (int(y % 2) == 0):\n",
    "        return (power(x, int(y / 2)) *\n",
    "            power(x, int(y / 2)))\n",
    "    else:\n",
    "        return (x * power(x, int(y / 2)) *\n",
    "                power(x, int(y / 2)))\n",
    "x = 2; y = 3\n",
    "print(power(x, y))"
   ]
  },
  {
   "cell_type": "code",
   "execution_count": 5,
   "id": "dfc5aa70",
   "metadata": {},
   "outputs": [
    {
     "name": "stdout",
     "output_type": "stream",
     "text": [
      "[114, 160, 60, 27]\n",
      "[74, 97, 73, 14]\n",
      "[119, 157, 112, 23]\n"
     ]
    }
   ],
   "source": [
    "#write a program to multiply two Matrix\n",
    "X = [[12,7,3],\n",
    "    [4 ,5,6],\n",
    "    [7 ,8,9]]\n",
    "Y = [[5,8,1,2],\n",
    "    [6,7,3,0],\n",
    "    [4,5,9,1]]\n",
    "result = [[0,0,0,0],\n",
    "         [0,0,0,0],\n",
    "         [0,0,0,0]]\n",
    "for i in range(len(X)):\n",
    "   for j in range(len(Y[0])):\n",
    "       for k in range(len(Y)):\n",
    "           result[i][j] += X[i][k] * Y[k][j]\n",
    "for r in result:\n",
    "   print(r)"
   ]
  },
  {
   "cell_type": "code",
   "execution_count": 6,
   "id": "19eca0df",
   "metadata": {},
   "outputs": [
    {
     "name": "stdout",
     "output_type": "stream",
     "text": [
      "Quotient:  3\n",
      "Remainder 1\n",
      "Quotient:  19\n",
      "Remainder 4\n"
     ]
    }
   ],
   "source": [
    "#write a program to find and print the remainder of two number\n",
    "def find(n, m):\n",
    "    q = n//m\n",
    "    print(\"Quotient: \", q)\n",
    "    r = n%m\n",
    "    print(\"Remainder\", r)\n",
    "find(10, 3)\n",
    "find(99, 5)"
   ]
  },
  {
   "cell_type": "code",
   "execution_count": 10,
   "id": "a171f8f3",
   "metadata": {},
   "outputs": [
    {
     "name": "stdout",
     "output_type": "stream",
     "text": [
      "Enter a number:56\n",
      "The total sum of digits is: 11\n"
     ]
    }
   ],
   "source": [
    "#Python program to compute sum of digits in number\n",
    "n=int(input(\"Enter a number:\"))\n",
    "tot=0\n",
    "while(n>0):\n",
    "    dig=n%10\n",
    "    tot=tot+dig\n",
    "    n=n//10\n",
    "print(\"The total sum of digits is:\",tot)"
   ]
  },
  {
   "cell_type": "code",
   "execution_count": null,
   "id": "45d5ca10",
   "metadata": {},
   "outputs": [],
   "source": []
  }
 ],
 "metadata": {
  "kernelspec": {
   "display_name": "Python 3",
   "language": "python",
   "name": "python3"
  },
  "language_info": {
   "codemirror_mode": {
    "name": "ipython",
    "version": 3
   },
   "file_extension": ".py",
   "mimetype": "text/x-python",
   "name": "python",
   "nbconvert_exporter": "python",
   "pygments_lexer": "ipython3",
   "version": "3.8.8"
  }
 },
 "nbformat": 4,
 "nbformat_minor": 5
}
