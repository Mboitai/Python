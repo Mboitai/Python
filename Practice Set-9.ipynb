{
 "cells": [
  {
   "cell_type": "code",
   "execution_count": 2,
   "id": "30babf15",
   "metadata": {},
   "outputs": [
    {
     "name": "stdout",
     "output_type": "stream",
     "text": [
      "[1, 2, 3, 4]\n"
     ]
    }
   ],
   "source": [
    "#Python program to Sort the list in ascending order\n",
    "numbers = [1, 3, 4, 2]\n",
    "numbers.sort()\n",
    "print(numbers)"
   ]
  },
  {
   "cell_type": "code",
   "execution_count": 3,
   "id": "de353934",
   "metadata": {},
   "outputs": [
    {
     "name": "stdout",
     "output_type": "stream",
     "text": [
      "[4, 3, 2, 1]\n"
     ]
    }
   ],
   "source": [
    "#Python program to Sort the list in descending order\n",
    "numbers = [1, 3, 4, 2]\n",
    "numbers.sort(reverse = True)\n",
    "print(numbers)"
   ]
  },
  {
   "cell_type": "code",
   "execution_count": 4,
   "id": "d30057b7",
   "metadata": {},
   "outputs": [
    {
     "name": "stdout",
     "output_type": "stream",
     "text": [
      "Return Value: ODIA\n",
      "Updated List: ['ENGLISH', 'KOREAN', 'HINDI', 'TELUGU']\n"
     ]
    }
   ],
   "source": [
    "#Python program to remove the item at the given index from the list and returns the removed item\n",
    "languages = ['ENGLISH', 'KOREAN', 'HINDI', 'ODIA', 'TELUGU']\n",
    "return_value = languages.pop(3)\n",
    "print('Return Value:', return_value)\n",
    "print('Updated List:', languages)"
   ]
  },
  {
   "cell_type": "code",
   "execution_count": 5,
   "id": "9fcbc778",
   "metadata": {},
   "outputs": [
    {
     "name": "stdout",
     "output_type": "stream",
     "text": [
      "The count of i is: 2\n",
      "The count of p is: 0\n"
     ]
    }
   ],
   "source": [
    "#Python program to return the number of times the specified element appears in the list\n",
    "vowels = ['a', 'e', 'i', 'o', 'i', 'u']\n",
    "count = vowels.count('i')\n",
    "print('The count of i is:', count)\n",
    "count = vowels.count('p')\n",
    "print('The count of p is:', count)"
   ]
  },
  {
   "cell_type": "code",
   "execution_count": 6,
   "id": "5173f6dd",
   "metadata": {},
   "outputs": [
    {
     "name": "stdout",
     "output_type": "stream",
     "text": [
      "Enter any string: Y\n",
      "First character: Y\n"
     ]
    }
   ],
   "source": [
    "#Python program to access first characters in a string\n",
    "string = input('Enter any string: ')\n",
    "first_char = \"\"\n",
    "for i in range(0, 1):\n",
    "    first_char = first_char + string[i]\n",
    "print('First character:', first_char)"
   ]
  },
  {
   "cell_type": "code",
   "execution_count": null,
   "id": "c256f30a",
   "metadata": {},
   "outputs": [],
   "source": []
  }
 ],
 "metadata": {
  "kernelspec": {
   "display_name": "Python 3",
   "language": "python",
   "name": "python3"
  },
  "language_info": {
   "codemirror_mode": {
    "name": "ipython",
    "version": 3
   },
   "file_extension": ".py",
   "mimetype": "text/x-python",
   "name": "python",
   "nbconvert_exporter": "python",
   "pygments_lexer": "ipython3",
   "version": "3.8.8"
  }
 },
 "nbformat": 4,
 "nbformat_minor": 5
}
