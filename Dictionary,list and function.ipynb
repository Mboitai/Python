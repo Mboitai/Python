{
 "cells": [
  {
   "cell_type": "code",
   "execution_count": 5,
   "id": "6409b334",
   "metadata": {},
   "outputs": [
    {
     "name": "stdout",
     "output_type": "stream",
     "text": [
      "{'a': 1, 'b': 2, 'c': 3, 'mango': 30, 'orange': 70, 'leap': 2016, 'year': 1990}\n"
     ]
    }
   ],
   "source": [
    "#Create three dictionaries separately,then create one dictionary that will contain the other three dictionaries\n",
    "dict1={\"a\":1,\"b\":2,\"c\":3}\n",
    "dict2={\"mango\":30,\"orange\":70}\n",
    "dict3={\"leap\":2016,\"year\":1990}\n",
    "dict1.update(dict2)\n",
    "dict1.update(dict3)\n",
    "print(dict1)"
   ]
  },
  {
   "cell_type": "code",
   "execution_count": 7,
   "id": "37e5091a",
   "metadata": {},
   "outputs": [
    {
     "name": "stdout",
     "output_type": "stream",
     "text": [
      "Name:Mona \n",
      "Address:irc village \n",
      "Street:nayapalli \n",
      "State:odisha\n",
      "\n"
     ]
    }
   ],
   "source": [
    "#Create a dictionary of address using \"name\", \"address\", \"street\", \"state\" and print all the values using string formater\n",
    "d={\"name\":\"Mona\",\"address\":\"irc village\",\"street\":\"nayapalli\",\"state\":\"odisha\"}\n",
    "print(\"Name:{} \\nAddress:{} \\nStreet:{} \\nState:{}\\n\".format(d[\"name\"], d[\"address\"], d[\"street\"], d[\"state\"]))"
   ]
  },
  {
   "cell_type": "code",
   "execution_count": 8,
   "id": "b250b72f",
   "metadata": {},
   "outputs": [
    {
     "name": "stdout",
     "output_type": "stream",
     "text": [
      "10\n",
      "50\n",
      "200\n",
      "1200\n"
     ]
    }
   ],
   "source": [
    "#Write a program to multiply all elements of dictionary input FruitDict=(\"Apple\":10,)\n",
    "FruitDict = {'Apple': 10, 'banana': 5,'orange':4,'Guava':6} \n",
    "x=1\n",
    "for i in FruitDict.values():\n",
    "    x=x*i\n",
    "    print(x)"
   ]
  },
  {
   "cell_type": "code",
   "execution_count": null,
   "id": "0253ca0a",
   "metadata": {},
   "outputs": [],
   "source": [
    "#Create a user input dictionary using two key value pair and check whether one of the key value given by you is present in the\n",
    "#dictionary.Input:-(\"hari\":59,\"sunny\":60) Checking input:-hari Output-hari=59\n",
    "d={}\n",
    "for i in range(0,3):\n",
    "    x=input(\"key: \")\n",
    "    y=input(\"value: \")\n",
    "    d[x]=y\n",
    "print(d)\n",
    "t=input(\"enter key\")\n",
    "for i in d:\n",
    "    if i==t:\n",
    "        print('true')"
   ]
  },
  {
   "cell_type": "code",
   "execution_count": 11,
   "id": "7b4058d1",
   "metadata": {},
   "outputs": [
    {
     "name": "stdout",
     "output_type": "stream",
     "text": [
      "Before Sorting:\n",
      "[('Eng', 88), ('Sci', 90), ('Maths', 97), ('Sst', 82)]\n",
      "\n",
      " After Sorting:\n",
      "[('Sst', 82), ('Eng', 88), ('Sci', 90), ('Maths', 97)]\n"
     ]
    }
   ],
   "source": [
    "#Write a Python program to sort a list of tuples using Lambda. \n",
    "#Input: [('Eng', 88), ('Sci', 90), ('Maths', 97), ('Sst', 82)]\n",
    "#Output: [('Sst', 82), ('Eng', 88), ('Sci', 90), ('Maths', 97)]\n",
    "l1 = [('Eng', 88), ('Sci', 90), ('Maths', 97), ('Sst', 82)]\n",
    "print(\"Before Sorting:\")\n",
    "print(l1)\n",
    "l1.sort(key = lambda x: x[1])\n",
    "print(\"\\n After Sorting:\")\n",
    "print(l1)"
   ]
  },
  {
   "cell_type": "code",
   "execution_count": 17,
   "id": "93b68744",
   "metadata": {},
   "outputs": [
    {
     "name": "stdout",
     "output_type": "stream",
     "text": [
      "coming from if\n",
      "no condition is satsfied\n"
     ]
    }
   ],
   "source": [
    "#Define a function with two arguments a and b. Check if a is equal to 1 then return 'coming from if',check if b is equal to 1 ,\n",
    "#then return 'coming from elif' otherwise return 'no condition is satisfied'\n",
    "def fun(a,b):\n",
    "    if a == 1:\n",
    "        print(\"coming from if\")\n",
    "    elif b ==1 :\n",
    "        print(\"coming from elif\")\n",
    "    else:\n",
    "        print(\"no condition is satsfied\")\n",
    "fun(1,2)\n",
    "fun(2,3)"
   ]
  },
  {
   "cell_type": "code",
   "execution_count": 21,
   "id": "7fb2a450",
   "metadata": {},
   "outputs": [
    {
     "name": "stdout",
     "output_type": "stream",
     "text": [
      "66.0\n"
     ]
    }
   ],
   "source": [
    "#Take a Dictionary as given in input.Find the average of phy subject from the dict using function \n",
    "#Input:- dict={1:{'name':'Ram','Mark':{'phy':56,'chem':78}},2:{'name':'Hari','Mark':{'phy':76,'chem':88}}} \n",
    "#Output:- 66.0\n",
    "def avg(x):\n",
    "    s = 0\n",
    "    count = 0\n",
    "    for i in x.values():\n",
    "        s = s + i['Mark']['phy']\n",
    "        count = count + 1\n",
    "    av = s / count\n",
    "    return av\n",
    "\n",
    "dict={1:{'name':'Ram','Mark':{'phy':56,'chem':78}},2:{'name':'Hari','Mark':{'phy':76,'chem':88}}}\n",
    "print (avg (dict))\n"
   ]
  },
  {
   "cell_type": "code",
   "execution_count": null,
   "id": "fc3c24cb",
   "metadata": {},
   "outputs": [],
   "source": []
  }
 ],
 "metadata": {
  "kernelspec": {
   "display_name": "Python 3",
   "language": "python",
   "name": "python3"
  },
  "language_info": {
   "codemirror_mode": {
    "name": "ipython",
    "version": 3
   },
   "file_extension": ".py",
   "mimetype": "text/x-python",
   "name": "python",
   "nbconvert_exporter": "python",
   "pygments_lexer": "ipython3",
   "version": "3.8.8"
  }
 },
 "nbformat": 4,
 "nbformat_minor": 5
}
