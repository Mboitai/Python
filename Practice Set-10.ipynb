{
 "cells": [
  {
   "cell_type": "code",
   "execution_count": 1,
   "id": "1b42845d",
   "metadata": {},
   "outputs": [],
   "source": [
    "#Python program to access Last characters in a string\n",
    "#Python program to generate a list by list comprehension\n",
    "#Python program to get the values in the new list to upper case\n",
    "#Python program to sort the string list alphabetically\n",
    "#Python program to join Two Sets"
   ]
  },
  {
   "cell_type": "code",
   "execution_count": 2,
   "id": "0038789a",
   "metadata": {},
   "outputs": [
    {
     "name": "stdout",
     "output_type": "stream",
     "text": [
      "Monalisa Boitai\n",
      "itai"
     ]
    }
   ],
   "source": [
    "#Python program to access Last characters in a string\n",
    "Str = \"Monalisa Boitai\"\n",
    "N = 4\n",
    "print(Str)\n",
    "while(N > 0):\n",
    "    print(Str[-N], end='')\n",
    "    N = N-1"
   ]
  },
  {
   "cell_type": "code",
   "execution_count": 3,
   "id": "5b19cbd1",
   "metadata": {},
   "outputs": [
    {
     "name": "stdout",
     "output_type": "stream",
     "text": [
      "['P', 'y', 't', 'h', 'o', 'n', ' ', 'i', 's', ' ', 'l', 'o', 'v', 'e']\n"
     ]
    }
   ],
   "source": [
    "#Python program to generate a list by list comprehension\n",
    "List = []\n",
    "for character in 'Python is love':\n",
    "    List.append(character)\n",
    "print(List)"
   ]
  },
  {
   "cell_type": "code",
   "execution_count": 4,
   "id": "8b7da5dd",
   "metadata": {},
   "outputs": [
    {
     "name": "stdout",
     "output_type": "stream",
     "text": [
      "['A', 'B', 'C']\n"
     ]
    }
   ],
   "source": [
    "#Python program to get the values in the new list to upper case\n",
    "string_list = [\"A\", \"b\", \"c\"]\n",
    "for i in range(len(string_list)):\n",
    "    string_list[i] = string_list[i].upper()\n",
    "print(string_list)"
   ]
  },
  {
   "cell_type": "code",
   "execution_count": 5,
   "id": "91e806ff",
   "metadata": {},
   "outputs": [
    {
     "name": "stdout",
     "output_type": "stream",
     "text": [
      "Original String- PYTHON\n",
      "Sorted String- HNOPTY\n"
     ]
    }
   ],
   "source": [
    "#Python program to sort the string list alphabetically\n",
    "text = 'PYTHON'\n",
    "# printing both strings\n",
    "print(\"Original String-\", text)\n",
    "# sorting the string alphabetically\n",
    "print(\"Sorted String-\", ''.join(sorted(text)))\n",
    " "
   ]
  },
  {
   "cell_type": "code",
   "execution_count": 6,
   "id": "000e48c2",
   "metadata": {},
   "outputs": [
    {
     "name": "stdout",
     "output_type": "stream",
     "text": [
      "{1, 2, 'b', 'a', 3, 'c'}\n"
     ]
    }
   ],
   "source": [
    "#Python program to join Two Sets\n",
    "set1 = {\"a\", \"b\" , \"c\"}\n",
    "set2 = {1, 2, 3}\n",
    "#new set\n",
    "set3 = set1.union(set2)\n",
    "print(set3)"
   ]
  },
  {
   "cell_type": "code",
   "execution_count": null,
   "id": "849cb638",
   "metadata": {},
   "outputs": [],
   "source": []
  }
 ],
 "metadata": {
  "kernelspec": {
   "display_name": "Python 3",
   "language": "python",
   "name": "python3"
  },
  "language_info": {
   "codemirror_mode": {
    "name": "ipython",
    "version": 3
   },
   "file_extension": ".py",
   "mimetype": "text/x-python",
   "name": "python",
   "nbconvert_exporter": "python",
   "pygments_lexer": "ipython3",
   "version": "3.8.8"
  }
 },
 "nbformat": 4,
 "nbformat_minor": 5
}
