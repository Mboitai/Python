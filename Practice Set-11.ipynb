{
 "cells": [
  {
   "cell_type": "code",
   "execution_count": 2,
   "id": "646cf2e3",
   "metadata": {},
   "outputs": [
    {
     "name": "stdout",
     "output_type": "stream",
     "text": [
      "{1, 3}\n",
      "{1, 2, 3}\n",
      "{1, 2, 3, 4}\n",
      "{1, 2, 3, 4, 5, 6, 8}\n"
     ]
    }
   ],
   "source": [
    "#keep only the items that are present in both sets\n",
    "my_set = {1, 3}\n",
    "print(my_set)\n",
    "my_set.add(2)\n",
    "print(my_set)\n",
    "my_set.update([2, 3, 4])\n",
    "print(my_set)\n",
    "my_set.update([4, 5], {1, 6, 8})\n",
    "print(my_set)"
   ]
  },
  {
   "cell_type": "code",
   "execution_count": 3,
   "id": "e85b19ab",
   "metadata": {},
   "outputs": [
    {
     "name": "stdout",
     "output_type": "stream",
     "text": [
      "[2, 4, 10, 20, 5]\n"
     ]
    }
   ],
   "source": [
    "#Keep All items from List But NOT the Duplicates\n",
    "def Remove(duplicate):\n",
    "    final_list = []\n",
    "    for num in duplicate:\n",
    "        if num not in final_list:\n",
    "            final_list.append(num)\n",
    "    return final_list\n",
    "duplicate = [2, 4, 10, 20, 5, 2, 20, 4]\n",
    "print(Remove(duplicate))"
   ]
  },
  {
   "cell_type": "code",
   "execution_count": 4,
   "id": "dff50032",
   "metadata": {},
   "outputs": [
    {
     "name": "stdout",
     "output_type": "stream",
     "text": [
      "Input a number 5\n",
      "{1: 1, 2: 4, 3: 9, 4: 16, 5: 25}\n"
     ]
    }
   ],
   "source": [
    "#python program to Create and print a dictionary\n",
    "n=int(input(\"Input a number \"))\n",
    "d = dict()\n",
    "for x in range(1,n+1):\n",
    "    d[x]=x*x\n",
    "print(d) "
   ]
  },
  {
   "cell_type": "code",
   "execution_count": 5,
   "id": "eb789bd0",
   "metadata": {},
   "outputs": [
    {
     "name": "stdout",
     "output_type": "stream",
     "text": [
      "Length : 3\n"
     ]
    }
   ],
   "source": [
    "#Calculate the length of dictionary\n",
    "dict = {'Name': 'Manni', 'Age': 7, 'Class': 'First'}\n",
    "print (\"Length : %d\" % len (dict))"
   ]
  },
  {
   "cell_type": "code",
   "execution_count": null,
   "id": "20aa6a5d",
   "metadata": {},
   "outputs": [],
   "source": []
  }
 ],
 "metadata": {
  "kernelspec": {
   "display_name": "Python 3",
   "language": "python",
   "name": "python3"
  },
  "language_info": {
   "codemirror_mode": {
    "name": "ipython",
    "version": 3
   },
   "file_extension": ".py",
   "mimetype": "text/x-python",
   "name": "python",
   "nbconvert_exporter": "python",
   "pygments_lexer": "ipython3",
   "version": "3.8.8"
  }
 },
 "nbformat": 4,
 "nbformat_minor": 5
}
