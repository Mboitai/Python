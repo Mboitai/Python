{
 "cells": [
  {
   "cell_type": "code",
   "execution_count": 6,
   "id": "4c66af6d",
   "metadata": {},
   "outputs": [
    {
     "name": "stdout",
     "output_type": "stream",
     "text": [
      "The input string is ChickenBiriyani\n",
      "The length of the longest non-repeating character substring is 8\n"
     ]
    }
   ],
   "source": [
    "#Python Program Given a string, find the length of the longest substring without repeating characters.\n",
    "# Here, we are planning to implement a simple sliding window methodology\n",
    "\n",
    "def longestUniqueSubsttr(string):\n",
    "    seen = {}\n",
    "    maximum_length = 0\n",
    "    start = 0\n",
    "    for end in range(len(string)):\n",
    "        if string[end] in seen:\n",
    "            start = max(start, seen[string[end]] + 1)\n",
    "        seen[string[end]] = end\n",
    "        maximum_length = max(maximum_length, end-start + 1)\n",
    "    return maximum_length\n",
    "string = \"ChickenBiriyani\"\n",
    "print(\"The input string is\", string)\n",
    "length = longestUniqueSubsttr(string)\n",
    "print(\"The length of the longest non-repeating character substring is\", length)"
   ]
  },
  {
   "cell_type": "code",
   "execution_count": 11,
   "id": "c56e6175",
   "metadata": {},
   "outputs": [
    {
     "name": "stdout",
     "output_type": "stream",
     "text": [
      "[1, 2]\n"
     ]
    }
   ],
   "source": [
    "#Python Program Given an array of integers, return indices of the two numbers such that they add up to a specific target.\n",
    "class Solution(object):\n",
    "   def twoSum(self, nums, target):\n",
    "      \"\"\"\n",
    "      :type nums: List[int]\n",
    "      :type target: int\n",
    "      :rtype: List[int]\n",
    "      \"\"\"\n",
    "      required = {}\n",
    "      for i in range(len(nums)):\n",
    "         if target - nums[i] in required:\n",
    "            return [required[target - nums[i]],i]\n",
    "         else:\n",
    "            required[nums[i]]=i\n",
    "input_list = [2,8,12,15]\n",
    "ob1 = Solution()\n",
    "print(ob1.twoSum(input_list, 20))"
   ]
  },
  {
   "cell_type": "code",
   "execution_count": 13,
   "id": "735ef6cc",
   "metadata": {},
   "outputs": [],
   "source": [
    "#Python Program Given a sorted integer array without duplicates, return the summary of its ranges.\n",
    "def summaryRanges(nums):\n",
    "    start_index = 0\n",
    "    result = []\n",
    "\n",
    "    for i in range(len(nums)):\n",
    "        # Find last index for continuous series\n",
    "        if i + 1 < len(nums) and nums[i] + 1 == nums[i+1]:\n",
    "            continue\n",
    "\n",
    "        if start_index == i:\n",
    "            result.append(str(nums[start_index]))\n",
    "        else:\n",
    "            result.append(str(nums[start_index]) + \"->\" + str(nums[i]))\n",
    "\n",
    "        start_index = i + 1\n",
    "\n",
    "    return result"
   ]
  },
  {
   "cell_type": "code",
   "execution_count": 15,
   "id": "aa230327",
   "metadata": {},
   "outputs": [
    {
     "name": "stdout",
     "output_type": "stream",
     "text": [
      "[4, 5, 6, 1, 2, 3]\n"
     ]
    }
   ],
   "source": [
    "#Python Program to Rotate an array of n elements to the right by k steps.\n",
    "def rightRotate(lists, num):\n",
    "    output_list = []\n",
    "    for item in range(len(lists) - num, len(lists)):\n",
    "        output_list.append(lists[item])\n",
    "    for item in range(0, len(lists) - num):\n",
    "        output_list.append(lists[item])\n",
    "    return output_list\n",
    "rotate_num = 3\n",
    "list_1 = [1, 2, 3, 4, 5, 6]\n",
    "print(rightRotate(list_1, rotate_num))"
   ]
  },
  {
   "cell_type": "code",
   "execution_count": 16,
   "id": "d674b91f",
   "metadata": {},
   "outputs": [
    {
     "name": "stdout",
     "output_type": "stream",
     "text": [
      "Array after merging\n",
      "1 2 3 4 5 6 7 8 "
     ]
    }
   ],
   "source": [
    "#Python Program to Consider an array of non-negative integers. A second array is formed by shuffling the elements of the first \n",
    "#array and deleting a random element. Given these two arrays, #Python Program Given a collection of intervals which are already \n",
    "#sorted by start number, merge all overlapping intervals.\n",
    "def mergeArrays(arr1, arr2, n1, n2):\n",
    "    arr3 = [None] * (n1 + n2)\n",
    "    i = 0\n",
    "    j = 0\n",
    "    k = 0\n",
    "    while i < n1 and j < n2:\n",
    "        if arr1[i] < arr2[j]:\n",
    "            arr3[k] = arr1[i]\n",
    "            k = k + 1\n",
    "            i = i + 1\n",
    "        else:\n",
    "            arr3[k] = arr2[j]\n",
    "            k = k + 1\n",
    "            j = j + 1\n",
    "    while i < n1:\n",
    "        arr3[k] = arr1[i];\n",
    "        k = k + 1\n",
    "        i = i + 1\n",
    "    while j < n2:\n",
    "        arr3[k] = arr2[j];\n",
    "        k = k + 1\n",
    "        j = j + 1\n",
    "    print(\"Array after merging\")\n",
    "    for i in range(n1 + n2):\n",
    "        print(str(arr3[i]), end = \" \")\n",
    "arr1 = [1, 3, 5, 7]\n",
    "n1 = len(arr1)\n",
    "arr2 = [2, 4, 6, 8]\n",
    "n2 = len(arr2)\n",
    "mergeArrays(arr1, arr2, n1, n2);"
   ]
  },
  {
   "cell_type": "code",
   "execution_count": null,
   "id": "b34f2762",
   "metadata": {},
   "outputs": [],
   "source": []
  }
 ],
 "metadata": {
  "kernelspec": {
   "display_name": "Python 3",
   "language": "python",
   "name": "python3"
  },
  "language_info": {
   "codemirror_mode": {
    "name": "ipython",
    "version": 3
   },
   "file_extension": ".py",
   "mimetype": "text/x-python",
   "name": "python",
   "nbconvert_exporter": "python",
   "pygments_lexer": "ipython3",
   "version": "3.8.8"
  }
 },
 "nbformat": 4,
 "nbformat_minor": 5
}
