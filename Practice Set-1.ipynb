{
 "cells": [
  {
   "cell_type": "code",
   "execution_count": 1,
   "id": "8b3705c9",
   "metadata": {},
   "outputs": [
    {
     "name": "stdout",
     "output_type": "stream",
     "text": [
      "Enter the distance in kilometers: 23\n",
      "The distance in miles is:  14.291533\n"
     ]
    }
   ],
   "source": [
    "#1Python Program to Convert Kilometers to Miles\n",
    "kilometers=float(input(\"Enter the distance in kilometers: \"))\n",
    "f=0.621371\n",
    "miles=kilometers*f\n",
    "print(\"The distance in miles is: \",miles)"
   ]
  },
  {
   "cell_type": "code",
   "execution_count": 2,
   "id": "2bbc8509",
   "metadata": {},
   "outputs": [
    {
     "name": "stdout",
     "output_type": "stream",
     "text": [
      "Enter the temperature in celcius scale:37\n",
      "The temperature in fahrenheit scale is: 98.60000000000001\n"
     ]
    }
   ],
   "source": [
    "#2.Python Program to Convert Celsius To Fahrenheit\n",
    "celcius=float(input(\"Enter the temperature in celcius scale:\"))\n",
    "fahrenheit=(celcius*1.8)+32\n",
    "print(\"The temperature in fahrenheit scale is:\",fahrenheit)"
   ]
  },
  {
   "cell_type": "code",
   "execution_count": 3,
   "id": "507838a2",
   "metadata": {},
   "outputs": [
    {
     "name": "stdout",
     "output_type": "stream",
     "text": [
      "Enter a number:-45\n",
      "The number is negative.\n"
     ]
    }
   ],
   "source": [
    "#3.Python Program to Check if a Number is Positive, Negative or 0\n",
    "num=int(input(\"Enter a number:\"))\n",
    "if num>0:\n",
    "    print(\"The number is positive.\")\n",
    "elif num<0:\n",
    "    print(\"The number is negative.\")\n",
    "else:\n",
    "    print(\"The number is 0.\")"
   ]
  },
  {
   "cell_type": "code",
   "execution_count": 4,
   "id": "5dfa2d7c",
   "metadata": {},
   "outputs": [
    {
     "name": "stdout",
     "output_type": "stream",
     "text": [
      "Enter a number:27\n",
      "The given number is odd.\n"
     ]
    }
   ],
   "source": [
    "#4.Python Program to Check if a Number is Odd or Even\n",
    "num=int(input(\"Enter a number:\"))\n",
    "if num%2==0:\n",
    "    print(\"The given number is even.\")\n",
    "else:\n",
    "    print(\"The given number is odd.\")"
   ]
  },
  {
   "cell_type": "code",
   "execution_count": 5,
   "id": "65be7e84",
   "metadata": {},
   "outputs": [
    {
     "name": "stdout",
     "output_type": "stream",
     "text": [
      "Enter a year:2021\n",
      "Given year is not a leap year.\n"
     ]
    }
   ],
   "source": [
    "#5.Python Program to Check Leap Year\n",
    "year=int(input(\"Enter a year:\"))\n",
    "if year%4==0:\n",
    "    if year%100==0:\n",
    "        if year%400==0:\n",
    "            print(\"Given year is a leap year.\")\n",
    "        else:\n",
    "            print(\"Given year is not a leap year.\")\n",
    "    else:\n",
    "        print(\"Given year is a leap year.\")\n",
    "else:\n",
    "    print(\"Given year is not a leap year.\")\n"
   ]
  },
  {
   "cell_type": "code",
   "execution_count": 6,
   "id": "98115d5b",
   "metadata": {},
   "outputs": [
    {
     "name": "stdout",
     "output_type": "stream",
     "text": [
      "Enter the first number:4\n",
      "Enter the second number:8\n",
      "Enter the third number:56\n",
      "The largest number is 56\n"
     ]
    }
   ],
   "source": [
    "#6.Python Program to Find the Largest Among Three Numbers\n",
    "num1=int(input(\"Enter the first number:\"))\n",
    "num2=int(input(\"Enter the second number:\"))\n",
    "num3=int(input(\"Enter the third number:\"))\n",
    "if (num1 >= num2) and (num1 >= num3):\n",
    "   largest = num1\n",
    "elif (num2 >= num1) and (num2 >= num3):\n",
    "   largest = num2\n",
    "else:\n",
    "   largest = num3\n",
    "\n",
    "print(\"The largest number is\", largest)"
   ]
  },
  {
   "cell_type": "code",
   "execution_count": 7,
   "id": "61172077",
   "metadata": {},
   "outputs": [
    {
     "name": "stdout",
     "output_type": "stream",
     "text": [
      "Enter a number:87\n",
      "87 is not a prime number\n"
     ]
    }
   ],
   "source": [
    "#7.Write a Python Program to check if a number is prime or not\n",
    "num=int(input(\"Enter a number:\"))\n",
    "if num > 1:\n",
    "    for i in range(2, int(num/2)+1):\n",
    "        if (num % i) == 0:\n",
    "            print(num, \"is not a prime number\")\n",
    "            break\n",
    "    else:\n",
    "        print(num, \"is a prime number\")\n",
    " \n",
    "else:\n",
    "    print(num, \"is not a prime number\")"
   ]
  },
  {
   "cell_type": "code",
   "execution_count": 8,
   "id": "266e637b",
   "metadata": {},
   "outputs": [
    {
     "name": "stdout",
     "output_type": "stream",
     "text": [
      "Enter the start value:3\n",
      "Enter the end value:45\n",
      "3\n",
      "5\n",
      "7\n",
      "11\n",
      "13\n",
      "17\n",
      "19\n",
      "23\n",
      "29\n",
      "31\n",
      "37\n",
      "41\n",
      "43\n"
     ]
    }
   ],
   "source": [
    "#8.Python program to display all the prime numbers within an interval\n",
    "start=int(input(\"Enter the start value:\"))\n",
    "end=int(input(\"Enter the end value:\"))\n",
    "  \n",
    "for i in range(start, end+1):\n",
    "  if i>1:\n",
    "    for j in range(2,i):\n",
    "        if(i % j==0):\n",
    "            break\n",
    "    else:\n",
    "        print(i)"
   ]
  },
  {
   "cell_type": "code",
   "execution_count": 9,
   "id": "17f1d106",
   "metadata": {},
   "outputs": [
    {
     "name": "stdout",
     "output_type": "stream",
     "text": [
      "Enter a number:5\n",
      "The factorial of 1 is 120\n"
     ]
    }
   ],
   "source": [
    "#9.Python program to find the factorial of a number.\n",
    "num=int(input(\"Enter a number:\"))\n",
    "if num < 0:\n",
    "        print(\"The factorial of\",num,\"is 0.\")\n",
    "elif num == 1:\n",
    "        print(\"The factorial of\",num,\"is 1.\")\n",
    "else:\n",
    "        fact = 1\n",
    "        while(num > 1):\n",
    "            fact *= num\n",
    "            num -= 1\n",
    "        print(\"The factorial of\",num,\"is\",fact)  "
   ]
  },
  {
   "cell_type": "code",
   "execution_count": 10,
   "id": "3800ad72",
   "metadata": {},
   "outputs": [
    {
     "name": "stdout",
     "output_type": "stream",
     "text": [
      "Display multiplication table of? 4\n",
      "4 x 1 = 4\n",
      "4 x 2 = 8\n",
      "4 x 3 = 12\n",
      "4 x 4 = 16\n",
      "4 x 5 = 20\n",
      "4 x 6 = 24\n",
      "4 x 7 = 28\n",
      "4 x 8 = 32\n",
      "4 x 9 = 36\n",
      "4 x 10 = 40\n"
     ]
    }
   ],
   "source": [
    "#10.Python Program to Display the multiplication Table\n",
    "num = int(input(\"Display multiplication table of? \"))\n",
    "for i in range(1, 11):\n",
    "   print(num, 'x', i, '=', num*i)"
   ]
  },
  {
   "cell_type": "code",
   "execution_count": 11,
   "id": "17604bad",
   "metadata": {},
   "outputs": [
    {
     "name": "stdout",
     "output_type": "stream",
     "text": [
      "How many terms? 7\n",
      "Fibonacci sequence:\n",
      "0\n",
      "1\n",
      "1\n",
      "2\n",
      "3\n",
      "5\n",
      "8\n"
     ]
    }
   ],
   "source": [
    "#11.Python Program to Print the Fibonacci sequence\n",
    "nterms = int(input(\"How many terms? \"))\n",
    "n1, n2 = 0, 1\n",
    "count = 0\n",
    "if nterms <= 0:\n",
    "   print(\"Please enter a positive integer\")\n",
    "elif nterms == 1:\n",
    "   print(\"Fibonacci sequence upto\",nterms,\":\")\n",
    "   print(n1)\n",
    "else:\n",
    "   print(\"Fibonacci sequence:\")\n",
    "   while count < nterms:\n",
    "       print(n1)\n",
    "       nth = n1 + n2\n",
    "       n1 = n2\n",
    "       n2 = nth\n",
    "       count += 1"
   ]
  },
  {
   "cell_type": "code",
   "execution_count": 12,
   "id": "60ef6e49",
   "metadata": {},
   "outputs": [
    {
     "name": "stdout",
     "output_type": "stream",
     "text": [
      "Enter a number: 153\n",
      "153 is an Armstrong number\n"
     ]
    }
   ],
   "source": [
    "#12.Python Program to Check Armstrong Number (for 3 digits)\n",
    "num = int(input(\"Enter a number: \"))\n",
    "sum = 0\n",
    "temp = num\n",
    "while temp > 0:\n",
    "   digit = temp % 10\n",
    "   sum += digit ** 3\n",
    "   temp //= 10\n",
    "if num == sum:\n",
    "   print(num,\"is an Armstrong number\")\n",
    "else:\n",
    "   print(num,\"is not an Armstrong number\")"
   ]
  },
  {
   "cell_type": "code",
   "execution_count": null,
   "id": "bd531aa4",
   "metadata": {},
   "outputs": [],
   "source": []
  }
 ],
 "metadata": {
  "kernelspec": {
   "display_name": "Python 3",
   "language": "python",
   "name": "python3"
  },
  "language_info": {
   "codemirror_mode": {
    "name": "ipython",
    "version": 3
   },
   "file_extension": ".py",
   "mimetype": "text/x-python",
   "name": "python",
   "nbconvert_exporter": "python",
   "pygments_lexer": "ipython3",
   "version": "3.8.8"
  }
 },
 "nbformat": 4,
 "nbformat_minor": 5
}
