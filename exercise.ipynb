{
 "cells": [
  {
   "cell_type": "code",
   "execution_count": null,
   "id": "12025f6a",
   "metadata": {},
   "outputs": [],
   "source": [
    "#Python Program to Convert Kilometers to Miles\n",
    "#Python Program to Convert Celsius To Fahrenheit\n",
    "#Python Program to Check if a Number is Positive, Negative or 0\n",
    "#Python Program to Check if a Number is Odd or Even\n",
    "#Python Program to Check Leap Year\n",
    "#Python Program to Find the Largest Among Three Numbers\n",
    "#Write a Python Program to check if a number is prime or not\n",
    "#Python program to display all the prime numbers within an interval\n",
    "#Python program to find the factorial of a number.\n",
    "#Python Program to Display the multiplication Table\n",
    "#Python Program to Print the Fibonacci sequence\n",
    "#Python Program to Check Armstrong Number (for 3 digits)"
   ]
  },
  {
   "cell_type": "code",
   "execution_count": 2,
   "id": "8b3705c9",
   "metadata": {},
   "outputs": [
    {
     "name": "stdout",
     "output_type": "stream",
     "text": [
      "Enter the distance in kilometers: 43\n",
      "The distance in miles is:  26.718953\n"
     ]
    }
   ],
   "source": [
    "#Python Program to Convert Kilometers to Miles\n",
    "kilometers=float(input(\"Enter the distance in kilometers: \"))\n",
    "f=0.621371\n",
    "miles=kilometers*f\n",
    "print(\"The distance in miles is: \",miles)"
   ]
  },
  {
   "cell_type": "code",
   "execution_count": 4,
   "id": "2bbc8509",
   "metadata": {},
   "outputs": [
    {
     "name": "stdout",
     "output_type": "stream",
     "text": [
      "Enter the temperature in celcius scale:37\n",
      "The temperature in fahrenheit scale is: 98.60000000000001\n"
     ]
    }
   ],
   "source": [
    "#Python Program to Convert Celsius To Fahrenheit\n",
    "celcius=float(input(\"Enter the temperature in celcius scale:\"))\n",
    "fahrenheit=(celcius*1.8)+32\n",
    "print(\"The temperature in fahrenheit scale is:\",fahrenheit)"
   ]
  },
  {
   "cell_type": "code",
   "execution_count": 7,
   "id": "507838a2",
   "metadata": {},
   "outputs": [
    {
     "name": "stdout",
     "output_type": "stream",
     "text": [
      "Enter a number:0\n",
      "The number is 0.\n"
     ]
    }
   ],
   "source": [
    "#Python Program to Check if a Number is Positive, Negative or 0\n",
    "num=int(input(\"Enter a number:\"))\n",
    "if num>0:\n",
    "    print(\"The number is positive.\")\n",
    "elif num<0:\n",
    "    print(\"The number is negative.\")\n",
    "else:\n",
    "    print(\"The number is 0.\")"
   ]
  },
  {
   "cell_type": "code",
   "execution_count": null,
   "id": "5dfa2d7c",
   "metadata": {},
   "outputs": [],
   "source": []
  }
 ],
 "metadata": {
  "kernelspec": {
   "display_name": "Python 3",
   "language": "python",
   "name": "python3"
  },
  "language_info": {
   "codemirror_mode": {
    "name": "ipython",
    "version": 3
   },
   "file_extension": ".py",
   "mimetype": "text/x-python",
   "name": "python",
   "nbconvert_exporter": "python",
   "pygments_lexer": "ipython3",
   "version": "3.8.8"
  }
 },
 "nbformat": 4,
 "nbformat_minor": 5
}
