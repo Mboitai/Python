{
 "cells": [
  {
   "cell_type": "code",
   "execution_count": null,
   "id": "8b3705c9",
   "metadata": {},
   "outputs": [],
   "source": [
    "#1Python Program to Convert Kilometers to Miles\n",
    "kilometers=float(input(\"Enter the distance in kilometers: \"))\n",
    "f=0.621371\n",
    "miles=kilometers*f\n",
    "print(\"The distance in miles is: \",miles)"
   ]
  },
  {
   "cell_type": "code",
   "execution_count": null,
   "id": "2bbc8509",
   "metadata": {},
   "outputs": [],
   "source": [
    "#2.Python Program to Convert Celsius To Fahrenheit\n",
    "celcius=float(input(\"Enter the temperature in celcius scale:\"))\n",
    "fahrenheit=(celcius*1.8)+32\n",
    "print(\"The temperature in fahrenheit scale is:\",fahrenheit)"
   ]
  },
  {
   "cell_type": "code",
   "execution_count": null,
   "id": "507838a2",
   "metadata": {},
   "outputs": [],
   "source": [
    "#3.Python Program to Check if a Number is Positive, Negative or 0\n",
    "num=int(input(\"Enter a number:\"))\n",
    "if num>0:\n",
    "    print(\"The number is positive.\")\n",
    "elif num<0:\n",
    "    print(\"The number is negative.\")\n",
    "else:\n",
    "    print(\"The number is 0.\")"
   ]
  },
  {
   "cell_type": "code",
   "execution_count": null,
   "id": "5dfa2d7c",
   "metadata": {},
   "outputs": [],
   "source": [
    "#4.Python Program to Check if a Number is Odd or Even\n",
    "num=int(input(\"Enter a number:\"))\n",
    "if num%2==0:\n",
    "    print(\"The given number is even.\")\n",
    "else:\n",
    "    print(\"The given number is odd.\")"
   ]
  },
  {
   "cell_type": "code",
   "execution_count": null,
   "id": "65be7e84",
   "metadata": {},
   "outputs": [],
   "source": [
    "#5.Python Program to Check Leap Year\n",
    "year=int(input(\"Enter a year:\"))\n",
    "if year%4==0:\n",
    "    if year%100==0:\n",
    "        if year%400==0:\n",
    "            print(\"Given year is a leap year.\")\n",
    "        else:\n",
    "            print(\"Given year is not a leap year.\")\n",
    "    else:\n",
    "        print(\"Given year is a leap year.\")\n",
    "else:\n",
    "    print(\"Given year is not a leap year.\")\n"
   ]
  },
  {
   "cell_type": "code",
   "execution_count": null,
   "id": "98115d5b",
   "metadata": {},
   "outputs": [],
   "source": [
    "#6.Python Program to Find the Largest Among Three Numbers\n",
    "num1=int(input(\"Enter the first number:\"))\n",
    "num2=int(input(\"Enter the second number:\"))\n",
    "num3=int(input(\"Enter the third number:\"))\n",
    "if (num1 >= num2) and (num1 >= num3):\n",
    "   largest = num1\n",
    "elif (num2 >= num1) and (num2 >= num3):\n",
    "   largest = num2\n",
    "else:\n",
    "   largest = num3\n",
    "\n",
    "print(\"The largest number is\", largest)"
   ]
  },
  {
   "cell_type": "code",
   "execution_count": null,
   "id": "61172077",
   "metadata": {},
   "outputs": [],
   "source": [
    "#7.Write a Python Program to check if a number is prime or not\n",
    "num=int(input(\"Enter a number:\"))\n",
    "if num > 1:\n",
    "    for i in range(2, int(num/2)+1):\n",
    "        if (num % i) == 0:\n",
    "            print(num, \"is not a prime number\")\n",
    "            break\n",
    "    else:\n",
    "        print(num, \"is a prime number\")\n",
    " \n",
    "else:\n",
    "    print(num, \"is not a prime number\")"
   ]
  },
  {
   "cell_type": "code",
   "execution_count": null,
   "id": "266e637b",
   "metadata": {},
   "outputs": [],
   "source": [
    "#8.Python program to display all the prime numbers within an interval\n",
    "start=int(input(\"Enter the start value:\"))\n",
    "end=int(input(\"Enter the end value:\"))\n",
    "  \n",
    "for i in range(start, end+1):\n",
    "  if i>1:\n",
    "    for j in range(2,i):\n",
    "        if(i % j==0):\n",
    "            break\n",
    "    else:\n",
    "        print(i)"
   ]
  },
  {
   "cell_type": "code",
   "execution_count": null,
   "id": "17f1d106",
   "metadata": {},
   "outputs": [],
   "source": [
    "#9.Python program to find the factorial of a number.\n",
    "num=int(input(\"Enter a number:\"))\n",
    "if num < 0:\n",
    "        print(\"The factorial of\",num,\"is 0.\")\n",
    "elif num == 1:\n",
    "        print(\"The factorial of\",num,\"is 1.\")\n",
    "else:\n",
    "        fact = 1\n",
    "        while(num > 1):\n",
    "            fact *= num\n",
    "            num -= 1\n",
    "        print(\"The factorial of\",num,\"is\",fact)  "
   ]
  },
  {
   "cell_type": "code",
   "execution_count": null,
   "id": "3800ad72",
   "metadata": {},
   "outputs": [],
   "source": [
    "#10.Python Program to Display the multiplication Table\n",
    "num = int(input(\"Display multiplication table of? \"))\n",
    "for i in range(1, 11):\n",
    "   print(num, 'x', i, '=', num*i)"
   ]
  },
  {
   "cell_type": "code",
   "execution_count": null,
   "id": "17604bad",
   "metadata": {},
   "outputs": [],
   "source": [
    "#11.Python Program to Print the Fibonacci sequence\n",
    "nterms = int(input(\"How many terms? \"))\n",
    "n1, n2 = 0, 1\n",
    "count = 0\n",
    "if nterms <= 0:\n",
    "   print(\"Please enter a positive integer\")\n",
    "elif nterms == 1:\n",
    "   print(\"Fibonacci sequence upto\",nterms,\":\")\n",
    "   print(n1)\n",
    "else:\n",
    "   print(\"Fibonacci sequence:\")\n",
    "   while count < nterms:\n",
    "       print(n1)\n",
    "       nth = n1 + n2\n",
    "       n1 = n2\n",
    "       n2 = nth\n",
    "       count += 1"
   ]
  },
  {
   "cell_type": "code",
   "execution_count": null,
   "id": "60ef6e49",
   "metadata": {},
   "outputs": [],
   "source": [
    "#12.Python Program to Check Armstrong Number (for 3 digits)\n",
    "num = int(input(\"Enter a number: \"))\n",
    "sum = 0\n",
    "temp = num\n",
    "while temp > 0:\n",
    "   digit = temp % 10\n",
    "   sum += digit ** 3\n",
    "   temp //= 10\n",
    "if num == sum:\n",
    "   print(num,\"is an Armstrong number\")\n",
    "else:\n",
    "   print(num,\"is not an Armstrong number\")"
   ]
  }
 ],
 "metadata": {
  "kernelspec": {
   "display_name": "Python 3",
   "language": "python",
   "name": "python3"
  },
  "language_info": {
   "codemirror_mode": {
    "name": "ipython",
    "version": 3
   },
   "file_extension": ".py",
   "mimetype": "text/x-python",
   "name": "python",
   "nbconvert_exporter": "python",
   "pygments_lexer": "ipython3",
   "version": "3.8.8"
  }
 },
 "nbformat": 4,
 "nbformat_minor": 5
}
