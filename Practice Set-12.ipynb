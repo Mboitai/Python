{
 "cells": [
  {
   "cell_type": "code",
   "execution_count": 3,
   "id": "e8941f8b",
   "metadata": {},
   "outputs": [
    {
     "name": "stdout",
     "output_type": "stream",
     "text": [
      "The original string is : 45 + 98-10\n",
      "The evaluated result is : 133\n"
     ]
    }
   ],
   "source": [
    "#Python program to evaluate a string and a number\n",
    "import re\n",
    "test_str = \"45 + 98-10\"\n",
    "print(\"The original string is : \" + test_str)\n",
    "res = sum(map(int, re.findall(r'[+-]?\\d+', test_str)))\n",
    "\n",
    "\n",
    "print(\"The evaluated result is : \" + str(res))\n"
   ]
  },
  {
   "cell_type": "code",
   "execution_count": 5,
   "id": "022110a2",
   "metadata": {},
   "outputs": [
    {
     "name": "stdout",
     "output_type": "stream",
     "text": [
      "17\n"
     ]
    }
   ],
   "source": [
    "#Python program to calculate length of a string\n",
    "def findLen(str):\n",
    "    counter = 0    \n",
    "    for i in str:\n",
    "        counter += 1\n",
    "    return counter\n",
    "  \n",
    "  \n",
    "str = \"hfrdujhjhyfvgujjl\"\n",
    "print(findLen(str))"
   ]
  },
  {
   "cell_type": "code",
   "execution_count": 7,
   "id": "56117460",
   "metadata": {},
   "outputs": [
    {
     "name": "stdout",
     "output_type": "stream",
     "text": [
      "number of spaces  3\n"
     ]
    }
   ],
   "source": [
    "#Python program to ount the number of spaces in a sring\n",
    "def check_space(string):\n",
    "  \n",
    "    count = 0\n",
    "    for i in range(0, len(string)):\n",
    "        if string[i] == \" \":\n",
    "            count += 1\n",
    "         \n",
    "    return count\n",
    "string = \"Welcome to my world\"\n",
    "print(\"number of spaces \",check_space(string))"
   ]
  },
  {
   "cell_type": "code",
   "execution_count": 9,
   "id": "2963c795",
   "metadata": {},
   "outputs": [
    {
     "name": "stdout",
     "output_type": "stream",
     "text": [
      "chicken biriyani\n",
      "chicke\n"
     ]
    }
   ],
   "source": [
    "#Python program to remove leading characters\n",
    "string = '  chicken biriyani   '\n",
    "print(string.strip())\n",
    "print(string.strip(' biriyani'))"
   ]
  },
  {
   "cell_type": "code",
   "execution_count": 10,
   "id": "a45330d7",
   "metadata": {},
   "outputs": [
    {
     "name": "stdout",
     "output_type": "stream",
     "text": [
      "Now is better than never. \n",
      "\n",
      "Now is better than never.\n"
     ]
    }
   ],
   "source": [
    "#Python program to removes trailing characters\n",
    "s = 'Now is better than never. \\n'\n",
    "print(s)\n",
    "\n",
    "new_s = s.rstrip()\n",
    "print(new_s)"
   ]
  },
  {
   "cell_type": "code",
   "execution_count": null,
   "id": "b099c2cf",
   "metadata": {},
   "outputs": [],
   "source": []
  }
 ],
 "metadata": {
  "kernelspec": {
   "display_name": "Python 3",
   "language": "python",
   "name": "python3"
  },
  "language_info": {
   "codemirror_mode": {
    "name": "ipython",
    "version": 3
   },
   "file_extension": ".py",
   "mimetype": "text/x-python",
   "name": "python",
   "nbconvert_exporter": "python",
   "pygments_lexer": "ipython3",
   "version": "3.8.8"
  }
 },
 "nbformat": 4,
 "nbformat_minor": 5
}
