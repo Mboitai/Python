{
 "cells": [
  {
   "cell_type": "code",
   "execution_count": 5,
   "id": "c403257f",
   "metadata": {},
   "outputs": [
    {
     "name": "stdout",
     "output_type": "stream",
     "text": [
      "Enter insta username:monali_monalisha_sahoo\n",
      "Stored ID 5576926344 for profile monali_monalisha_sahoo.\n",
      "monali_monalisha_sahoo\\2021-07-15_06-58-34_UTC_profile_pic.jpg \n"
     ]
    }
   ],
   "source": [
    "import instaloader\n",
    "ig= instaloader.Instaloader()\n",
    "dp= input(\"Enter insta username:\")\n",
    "ig.download_profile(dp,profile_pic_only=True)"
   ]
  },
  {
   "cell_type": "code",
   "execution_count": null,
   "id": "7dcc986a",
   "metadata": {},
   "outputs": [],
   "source": []
  }
 ],
 "metadata": {
  "kernelspec": {
   "display_name": "Python 3",
   "language": "python",
   "name": "python3"
  },
  "language_info": {
   "codemirror_mode": {
    "name": "ipython",
    "version": 3
   },
   "file_extension": ".py",
   "mimetype": "text/x-python",
   "name": "python",
   "nbconvert_exporter": "python",
   "pygments_lexer": "ipython3",
   "version": "3.8.8"
  }
 },
 "nbformat": 4,
 "nbformat_minor": 5
}
