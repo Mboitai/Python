{
 "cells": [
  {
   "cell_type": "code",
   "execution_count": 2,
   "id": "5b67215a",
   "metadata": {},
   "outputs": [
    {
     "name": "stdout",
     "output_type": "stream",
     "text": [
      "True\n",
      "False\n"
     ]
    }
   ],
   "source": [
    "#Python program to check if all char are alphanumeric\n",
    "string = \"abc123\"\n",
    "print(string.isalnum())\n",
    "  \n",
    "string = \"abc 123\" \n",
    "print(string.isalnum()) "
   ]
  },
  {
   "cell_type": "code",
   "execution_count": 3,
   "id": "47762f6b",
   "metadata": {},
   "outputs": [
    {
     "name": "stdout",
     "output_type": "stream",
     "text": [
      "True\n",
      "False\n",
      "False\n"
     ]
    }
   ],
   "source": [
    "#Python program to check if all char in the string are alphabetic\n",
    "string = 'Moonalisa'\n",
    "print(string.isalpha())\n",
    "   \n",
    "string = 'Monalisa0212'\n",
    "print(string.isalpha())\n",
    "   \n",
    "string = 'Monalisa Boitai'\n",
    "print( string.isalpha())"
   ]
  },
  {
   "cell_type": "code",
   "execution_count": 4,
   "id": "39ea95f9",
   "metadata": {},
   "outputs": [
    {
     "name": "stdout",
     "output_type": "stream",
     "text": [
      "The original string is : Python Programming\n",
      "Does string contain any digit ? : False\n"
     ]
    }
   ],
   "source": [
    "#Python program to test if string contains digits\n",
    "test_str = 'Python Programming'\n",
    "  \n",
    "print(\"The original string is : \" + str(test_str))\n",
    "  \n",
    "res = any(chr.isdigit() for chr in test_str)\n",
    "print(\"Does string contain any digit ? : \" + str(res)) "
   ]
  },
  {
   "cell_type": "code",
   "execution_count": 5,
   "id": "0dd8a50e",
   "metadata": {},
   "outputs": [
    {
     "name": "stdout",
     "output_type": "stream",
     "text": [
      "The original string is : Chicken biriyan is lob.\n",
      "Does String contain uppercase character : True\n"
     ]
    }
   ],
   "source": [
    "#Python program to test if string contains upper case\n",
    "test_str = 'Chicken biriyan is lob.'\n",
    "print(\"The original string is : \" + str(test_str))\n",
    "  \n",
    "res = False\n",
    "for ele in test_str:\n",
    "    if ele.isupper():\n",
    "        res = True\n",
    "        break\n",
    "print(\"Does String contain uppercase character : \" + str(res))"
   ]
  },
  {
   "cell_type": "code",
   "execution_count": 8,
   "id": "6850fb49",
   "metadata": {},
   "outputs": [
    {
     "name": "stdout",
     "output_type": "stream",
     "text": [
      "False\n"
     ]
    }
   ],
   "source": [
    "#Python program to test if string starts with H\n",
    "text = \"Python is easy to learn.\"\n",
    "\n",
    "result = text.startswith('H')\n",
    "print(result)"
   ]
  },
  {
   "cell_type": "code",
   "execution_count": 9,
   "id": "26525f23",
   "metadata": {},
   "outputs": [
    {
     "name": "stdout",
     "output_type": "stream",
     "text": [
      "Enter any character: m\n",
      "The ASCII value of char m is:  109\n"
     ]
    }
   ],
   "source": [
    "#Python program to returns an integer value for the given character\n",
    "ch = input(\"Enter any character: \")\n",
    "\n",
    "print(\"The ASCII value of char \" + ch + \" is: \",ord(ch))"
   ]
  },
  {
   "cell_type": "code",
   "execution_count": null,
   "id": "cc3da6b6",
   "metadata": {},
   "outputs": [],
   "source": []
  }
 ],
 "metadata": {
  "kernelspec": {
   "display_name": "Python 3",
   "language": "python",
   "name": "python3"
  },
  "language_info": {
   "codemirror_mode": {
    "name": "ipython",
    "version": 3
   },
   "file_extension": ".py",
   "mimetype": "text/x-python",
   "name": "python",
   "nbconvert_exporter": "python",
   "pygments_lexer": "ipython3",
   "version": "3.8.8"
  }
 },
 "nbformat": 4,
 "nbformat_minor": 5
}
