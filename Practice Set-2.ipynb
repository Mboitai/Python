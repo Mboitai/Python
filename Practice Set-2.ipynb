{
 "cells": [
  {
   "cell_type": "code",
   "execution_count": 9,
   "id": "ba6ddb41",
   "metadata": {},
   "outputs": [
    {
     "name": "stdout",
     "output_type": "stream",
     "text": [
      "Enter a number: 546\n",
      "546 is not an Armstrong number\n"
     ]
    }
   ],
   "source": [
    "#1.Python Program to Check Armstrong Number (for 3 digits)\n",
    "num = int(input(\"Enter a number: \"))\n",
    "sum =0\n",
    "temp = num\n",
    "while temp > 0:\n",
    "   digit = temp % 10\n",
    "   sum += digit ** 3\n",
    "   temp //= 10\n",
    "if num == sum:\n",
    "   print(num,\"is an Armstrong number\")\n",
    "else:\n",
    "   print(num,\"is not an Armstrong number\")"
   ]
  },
  {
   "cell_type": "code",
   "execution_count": 3,
   "id": "b33d5170",
   "metadata": {},
   "outputs": [
    {
     "name": "stdout",
     "output_type": "stream",
     "text": [
      "Enter a number: 345\n",
      "216\n"
     ]
    }
   ],
   "source": [
    "#2.find the sum of the cube of each digit\n",
    "num = int(input(\"Enter a number: \"))\n",
    "sum = 0\n",
    "temp = num\n",
    "while temp > 0:\n",
    "   digit = temp % 10\n",
    "   sum += digit ** 3\n",
    "   temp //= 10\n",
    "print(sum)"
   ]
  },
  {
   "cell_type": "code",
   "execution_count": 1,
   "id": "782fb9f8",
   "metadata": {},
   "outputs": [
    {
     "name": "stdout",
     "output_type": "stream",
     "text": [
      "Enter the lower value:100\n",
      "Enter the upper value:500\n",
      "There is no armstrong between this range.\n"
     ]
    }
   ],
   "source": [
    "#3.Python Program to Find Armstrong Number in an Interval\n",
    "lower = int(input('Enter the lower value:'))\n",
    "upper = int(input('Enter the upper value:'))\n",
    "for num in range(lower, upper + 1):\n",
    "   order = len(str(num))\n",
    "   sum = 0\n",
    "   temp = num\n",
    "   while temp > 0:\n",
    "       digit = temp % 10\n",
    "       sum += digit ** order\n",
    "       temp //= 10\n",
    "if num == sum:\n",
    "       print(num)\n",
    "else:\n",
    "       print('There is no armstrong between this range.')"
   ]
  },
  {
   "cell_type": "code",
   "execution_count": 2,
   "id": "a4b54d0e",
   "metadata": {},
   "outputs": [
    {
     "name": "stdout",
     "output_type": "stream",
     "text": [
      "Enter a number: 6\n",
      "The sum is 21\n"
     ]
    }
   ],
   "source": [
    "#4.Python Program to Find the Sum of Natural Numbers\n",
    "num = int(input(\"Enter a number: \"))  \n",
    "if num < 0:  \n",
    "   print(\"Enter a positive number\")  \n",
    "else:  \n",
    "   sum = 0  \n",
    "   while(num > 0):  \n",
    "       sum += num  \n",
    "       num -= 1  \n",
    "   print(\"The sum is\",sum)"
   ]
  },
  {
   "cell_type": "code",
   "execution_count": 10,
   "id": "018e42fe",
   "metadata": {},
   "outputs": [
    {
     "name": "stdout",
     "output_type": "stream",
     "text": [
      "How many terms? 5\n",
      "The total terms are: 5\n",
      "2 raised to power 0 is 1\n",
      "2 raised to power 1 is 2\n",
      "2 raised to power 2 is 4\n",
      "2 raised to power 3 is 8\n",
      "2 raised to power 4 is 16\n"
     ]
    }
   ],
   "source": [
    "#5.Python Program To Display Powers of 2 Using Anonymous Function Display the powers of 2 using anonymous function\n",
    "terms = int(input(\"How many terms? \"))\n",
    "result = list(map(lambda x: 2 ** x, range(terms)))\n",
    "print(\"The total terms are:\",terms)\n",
    "for i in range(terms):\n",
    "   print(\"2 raised to power\",i,\"is\",result[i])"
   ]
  },
  {
   "cell_type": "code",
   "execution_count": 4,
   "id": "6590cec5",
   "metadata": {},
   "outputs": [
    {
     "name": "stdout",
     "output_type": "stream",
     "text": [
      "Numbers divisible by 13 are [65, 39, 221]\n"
     ]
    }
   ],
   "source": [
    "#6.Python Program to Find Numbers Divisible by Another Number\n",
    "my_list = [12, 65, 54, 39, 102, 339, 221,]\n",
    "result = list(filter(lambda x: (x % 13 == 0), my_list))\n",
    "print(\"Numbers divisible by 13 are\",result)\n"
   ]
  },
  {
   "cell_type": "code",
   "execution_count": 5,
   "id": "6aec3b85",
   "metadata": {},
   "outputs": [
    {
     "name": "stdout",
     "output_type": "stream",
     "text": [
      "Enter a decimal value:67\n",
      "01000011"
     ]
    }
   ],
   "source": [
    "#7.Python Program to Convert Decimal to Binary\n",
    "def DecimalToBinary(num):\n",
    "    if num >= 1:\n",
    "        DecimalToBinary(num // 2)\n",
    "    print(num % 2, end = '')\n",
    "if __name__ == '__main__':\n",
    "    dec_val = int(input('Enter a decimal value:'))\n",
    "    DecimalToBinary(dec_val)\n"
   ]
  },
  {
   "cell_type": "code",
   "execution_count": 6,
   "id": "0f383cd2",
   "metadata": {},
   "outputs": [
    {
     "name": "stdout",
     "output_type": "stream",
     "text": [
      "Enter the decimal value for conversion: 34\n",
      "The equivalent hexadecimal value is:  0x22\n"
     ]
    }
   ],
   "source": [
    "#8.Python Program to Convert Decimal to Hexadecimal\n",
    "decimal = int(input(\"Enter the decimal value for conversion: \"))\n",
    "hex = hex(decimal)\n",
    "print(\"The equivalent hexadecimal value is: \", hex)"
   ]
  },
  {
   "cell_type": "code",
   "execution_count": 7,
   "id": "306ad0b3",
   "metadata": {},
   "outputs": [
    {
     "name": "stdout",
     "output_type": "stream",
     "text": [
      "Enter a characterm\n",
      "The ASCII value of 'm' is 109\n"
     ]
    }
   ],
   "source": [
    "#9.Python Program to Find ASCII Value of Character\n",
    "c = input('Enter a character')\n",
    "print(\"The ASCII value of '\" + c + \"' is\", ord(c))\n"
   ]
  },
  {
   "cell_type": "code",
   "execution_count": 8,
   "id": "285b8bfa",
   "metadata": {},
   "outputs": [
    {
     "name": "stdout",
     "output_type": "stream",
     "text": [
      "Enter 1st number6\n",
      "Enter 2nd number7\n",
      "The H.C.F. is 1\n"
     ]
    }
   ],
   "source": [
    "#10.Python Program to Find HCF or GCD\n",
    "def compute_hcf(x, y):\n",
    "    if x > y:\n",
    "        smaller = y\n",
    "    else:\n",
    "        smaller = x\n",
    "    for i in range(1, smaller+1):\n",
    "        if((x % i == 0) and (y % i == 0)):\n",
    "            hcf = i \n",
    "    return hcf\n",
    "num1 = int(input('Enter 1st number'))\n",
    "num2 = int(input('Enter 2nd number'))\n",
    "print(\"The H.C.F. is\", compute_hcf(num1, num2))\n"
   ]
  },
  {
   "cell_type": "code",
   "execution_count": null,
   "id": "30f85f87",
   "metadata": {},
   "outputs": [],
   "source": []
  }
 ],
 "metadata": {
  "kernelspec": {
   "display_name": "Python 3",
   "language": "python",
   "name": "python3"
  },
  "language_info": {
   "codemirror_mode": {
    "name": "ipython",
    "version": 3
   },
   "file_extension": ".py",
   "mimetype": "text/x-python",
   "name": "python",
   "nbconvert_exporter": "python",
   "pygments_lexer": "ipython3",
   "version": "3.8.8"
  }
 },
 "nbformat": 4,
 "nbformat_minor": 5
}
